{
 "cells": [
  {
   "cell_type": "code",
   "execution_count": 1,
   "metadata": {},
   "outputs": [],
   "source": [
    "import nltk\n",
    "from nltk.tokenize import word_tokenize, wordpunct_tokenize, RegexpTokenizer, sent_tokenize\n",
    "from nltk.corpus import stopwords\n",
    "\n",
    "import re, pprint\n",
    "import os\n",
    "import sys\n",
    "import glob\n",
    "import pandas as pd\n",
    "import datefinder\n",
    "import calendar\n",
    "import unicodedata\n",
    "import datetime\n",
    "import boto3\n",
    "import json\n",
    "import io\n",
    "\n",
    "comprehend = boto3.client(service_name='comprehend', region_name=<MY_REGION_NAME>,\n",
    "        aws_access_key_id=<MY_AWS_ACCESS_KEY_ID>,\n",
    "        aws_secret_access_key=<MY_AWS_SECRET_ACCESS_KEY>)"
   ]
  },
  {
   "cell_type": "code",
   "execution_count": 2,
   "metadata": {},
   "outputs": [],
   "source": [
    "rootdir = \"./../../Documents/Projects/contract_extraction-master/data/*.txt\"\n",
    "file_list = glob.glob(rootdir)\n",
    "#print(file_list)\n",
    "\n",
    "if file_list:\n",
    "    print('**********Calling AWS Comprehend DetectEntities**********')\n",
    "    for file_count in range(67,len(file_list)):\n",
    "        f= open(file_list[file_count],'r')\n",
    "        #print(file_list[file_count])\n",
    "        raw_input = f.read()\n",
    "        raw_input = re.sub(r'\\n{2,}', '.\\n',raw_input).strip()\n",
    "        sentences_aws = sent_tokenize(raw_input)\n",
    "        output_dump = dict()\n",
    "        for sent_aws in sentences_aws:\n",
    "            #print(sent_aws)\n",
    "            output_dump.update({sent_aws:comprehend.detect_entities(Text=sent_aws, LanguageCode='en')})\n",
    "            \n",
    "        aws_name = os.path.splitext(file_list[file_count])[0]+'_AWS_out.json'        \n",
    "        with open(aws_name, 'w') as f:\n",
    "            json.dump(output_dump,f, sort_keys=False, indent=4)\n",
    "        print(file_count)\n",
    "    print('*********End of AWS Comprehend DetectEntities********\\n')\n"
   ]
  },
  {
   "cell_type": "code",
   "execution_count": null,
   "metadata": {},
   "outputs": [],
   "source": []
  }
 ],
 "metadata": {
  "kernelspec": {
   "display_name": "Python 3",
   "language": "python",
   "name": "python3"
  },
  "language_info": {
   "codemirror_mode": {
    "name": "ipython",
    "version": 3
   },
   "file_extension": ".py",
   "mimetype": "text/x-python",
   "name": "python",
   "nbconvert_exporter": "python",
   "pygments_lexer": "ipython3",
   "version": "3.7.1"
  }
 },
 "nbformat": 4,
 "nbformat_minor": 2
}
