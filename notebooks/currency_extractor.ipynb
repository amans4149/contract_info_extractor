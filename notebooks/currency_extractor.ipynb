{
 "cells": [
  {
   "cell_type": "code",
   "execution_count": 7,
   "metadata": {},
   "outputs": [],
   "source": [
    "from __future__ import unicode_literals, print_function\n",
    "import re\n",
    "import plac\n",
    "# import spacy\n",
    "import glob\n",
    "import nltk\n",
    "from nltk.tokenize import word_tokenize, wordpunct_tokenize, RegexpTokenizer, sent_tokenize\n",
    "#import en_core_web_sm"
   ]
  },
  {
   "cell_type": "code",
   "execution_count": 4,
   "metadata": {},
   "outputs": [
    {
     "name": "stdout",
     "output_type": "stream",
     "text": [
      "Collecting spacy\n",
      "  Downloading https://files.pythonhosted.org/packages/50/31/1496f44c12160282a93c6d36eff5527b89dbc0e6389cf1f4aeeb52caecee/spacy-2.0.18-cp37-cp37m-win_amd64.whl (24.6MB)\n",
      "Requirement already satisfied: requests<3.0.0,>=2.13.0 in c:\\programdata\\anaconda3\\lib\\site-packages (from spacy) (2.21.0)\n",
      "Collecting dill<0.3,>=0.2 (from spacy)\n",
      "  Downloading https://files.pythonhosted.org/packages/fe/42/bfe2e0857bc284cbe6a011d93f2a9ad58a22cb894461b199ae72cfef0f29/dill-0.2.9.tar.gz (150kB)\n",
      "Collecting regex==2018.01.10 (from spacy)\n",
      "  Downloading https://files.pythonhosted.org/packages/3d/22/751518d3f4c22ea23129ffc28d3408d5d4633df460256c54863970f23e1a/regex-2018.01.10-cp37-none-win_amd64.whl (264kB)\n",
      "Collecting plac<1.0.0,>=0.9.6 (from spacy)\n",
      "  Downloading https://files.pythonhosted.org/packages/9e/9b/62c60d2f5bc135d2aa1d8c8a86aaf84edb719a59c7f11a4316259e61a298/plac-0.9.6-py2.py3-none-any.whl\n",
      "Collecting ujson>=1.35 (from spacy)\n",
      "  Downloading https://files.pythonhosted.org/packages/16/c4/79f3409bc710559015464e5f49b9879430d8f87498ecdc335899732e5377/ujson-1.35.tar.gz (192kB)\n",
      "Collecting thinc<6.13.0,>=6.12.1 (from spacy)\n",
      "  Downloading https://files.pythonhosted.org/packages/cf/a1/80aabceed94fe348f8ff0a14b89bfbdce7478783c4bba481b96787c05375/thinc-6.12.1-cp37-cp37m-win_amd64.whl (1.8MB)\n",
      "Collecting cymem<2.1.0,>=2.0.2 (from spacy)\n",
      "  Downloading https://files.pythonhosted.org/packages/73/26/fb9d708e2570bb48f35ce8b6f796ece9b0805191eb11545697a4e9fe06bc/cymem-2.0.2-cp37-cp37m-win_amd64.whl\n",
      "Collecting preshed<2.1.0,>=2.0.1 (from spacy)\n",
      "  Downloading https://files.pythonhosted.org/packages/b8/e3/0ec374ed2b5046073e735b6e349d759e795fc2e3c83306fbef88efa01921/preshed-2.0.1-cp37-cp37m-win_amd64.whl (73kB)\n",
      "Collecting murmurhash<1.1.0,>=0.28.0 (from spacy)\n",
      "  Downloading https://files.pythonhosted.org/packages/4f/7b/d77bc9bb101e113884b2d70a118e7ec8dcc9846a35a0e10d47ca37acdcbf/murmurhash-1.0.2-cp37-cp37m-win_amd64.whl\n",
      "Requirement already satisfied: numpy>=1.15.0 in c:\\programdata\\anaconda3\\lib\\site-packages (from spacy) (1.15.4)\n",
      "Requirement already satisfied: certifi>=2017.4.17 in c:\\programdata\\anaconda3\\lib\\site-packages (from requests<3.0.0,>=2.13.0->spacy) (2018.11.29)\n",
      "Requirement already satisfied: idna<2.9,>=2.5 in c:\\programdata\\anaconda3\\lib\\site-packages (from requests<3.0.0,>=2.13.0->spacy) (2.8)\n",
      "Requirement already satisfied: urllib3<1.25,>=1.21.1 in c:\\programdata\\anaconda3\\lib\\site-packages (from requests<3.0.0,>=2.13.0->spacy) (1.24.1)\n",
      "Requirement already satisfied: chardet<3.1.0,>=3.0.2 in c:\\programdata\\anaconda3\\lib\\site-packages (from requests<3.0.0,>=2.13.0->spacy) (3.0.4)\n",
      "Requirement already satisfied: six<2.0.0,>=1.10.0 in c:\\programdata\\anaconda3\\lib\\site-packages (from thinc<6.13.0,>=6.12.1->spacy) (1.12.0)\n",
      "Requirement already satisfied: msgpack<0.6.0,>=0.5.6 in c:\\programdata\\anaconda3\\lib\\site-packages (from thinc<6.13.0,>=6.12.1->spacy) (0.5.6)\n",
      "Collecting msgpack-numpy<0.4.4 (from thinc<6.13.0,>=6.12.1->spacy)\n",
      "  Downloading https://files.pythonhosted.org/packages/ad/45/464be6da85b5ca893cfcbd5de3b31a6710f636ccb8521b17bd4110a08d94/msgpack_numpy-0.4.3.2-py2.py3-none-any.whl\n",
      "Requirement already satisfied: wrapt<1.11.0,>=1.10.0 in c:\\programdata\\anaconda3\\lib\\site-packages (from thinc<6.13.0,>=6.12.1->spacy) (1.10.11)\n",
      "Requirement already satisfied: tqdm<5.0.0,>=4.10.0 in c:\\programdata\\anaconda3\\lib\\site-packages (from thinc<6.13.0,>=6.12.1->spacy) (4.28.1)\n",
      "Requirement already satisfied: cytoolz<0.10,>=0.9.0 in c:\\programdata\\anaconda3\\lib\\site-packages (from thinc<6.13.0,>=6.12.1->spacy) (0.9.0.1)\n",
      "Requirement already satisfied: toolz>=0.8.0 in c:\\programdata\\anaconda3\\lib\\site-packages (from cytoolz<0.10,>=0.9.0->thinc<6.13.0,>=6.12.1->spacy) (0.9.0)\n",
      "Building wheels for collected packages: dill, ujson\n",
      "  Running setup.py bdist_wheel for dill: started\n",
      "  Running setup.py bdist_wheel for dill: finished with status 'done'\n",
      "  Stored in directory: C:\\Users\\AKS\\AppData\\Local\\pip\\Cache\\wheels\\5b\\d7\\0f\\e58eae695403de585269f4e4a94e0cd6ca60ec0c202936fa4a\n",
      "  Running setup.py bdist_wheel for ujson: started\n",
      "  Running setup.py bdist_wheel for ujson: finished with status 'error'\n",
      "  Complete output from command C:\\ProgramData\\Anaconda3\\python.exe -u -c \"import setuptools, tokenize;__file__='C:\\\\Users\\\\AKS\\\\AppData\\\\Local\\\\Temp\\\\pip-install-9ordwj28\\\\ujson\\\\setup.py';f=getattr(tokenize, 'open', open)(__file__);code=f.read().replace('\\r\\n', '\\n');f.close();exec(compile(code, __file__, 'exec'))\" bdist_wheel -d C:\\Users\\AKS\\AppData\\Local\\Temp\\pip-wheel-f5ryzvfm --python-tag cp37:\n",
      "  Warning: 'classifiers' should be a list, got type 'filter'\n",
      "  running bdist_wheel\n",
      "  running build\n",
      "  running build_ext\n",
      "  building 'ujson' extension\n",
      "  error: Microsoft Visual C++ 14.0 is required. Get it with \"Microsoft Visual C++ Build Tools\": https://visualstudio.microsoft.com/downloads/\n",
      "  \n",
      "  ----------------------------------------\n",
      "  Running setup.py clean for ujson\n",
      "Successfully built dill\n",
      "Failed to build ujson\n",
      "Installing collected packages: dill, regex, plac, ujson, msgpack-numpy, cymem, murmurhash, preshed, thinc, spacy\n",
      "  Found existing installation: regex 2019.3.12\n",
      "    Uninstalling regex-2019.3.12:\n",
      "      Successfully uninstalled regex-2019.3.12\n"
     ]
    },
    {
     "name": "stderr",
     "output_type": "stream",
     "text": [
      "  Failed building wheel for ujson\n",
      "Could not install packages due to an EnvironmentError: [WinError 5] Access is denied: 'C:\\\\Users\\\\AKS\\\\AppData\\\\Local\\\\Temp\\\\pip-uninstall-wa7eph5b\\\\programdata\\\\anaconda3\\\\lib\\\\site-packages\\\\regex\\\\_regex.pyd'\n",
      "Consider using the `--user` option or check the permissions.\n",
      "\n"
     ]
    }
   ],
   "source": [
    "import sys\n",
    "!{sys.executable} -m pip install spacy"
   ]
  },
  {
   "cell_type": "code",
   "execution_count": 8,
   "metadata": {},
   "outputs": [],
   "source": [
    "def extract_currency(raw_input):\n",
    "    model='en_core_web_sm'\n",
    "    nlp = spacy.load(model)\n",
    "    doc = nlp(raw_input)\n",
    "    all_money = [];\n",
    "    for money in filter(lambda w: w.ent_type_ == 'MONEY', doc):\n",
    "        temp = money\n",
    "        all_money.append(temp)\n",
    "    return all_money"
   ]
  },
  {
   "cell_type": "code",
   "execution_count": 9,
   "metadata": {},
   "outputs": [
    {
     "name": "stdout",
     "output_type": "stream",
     "text": [
      "['./../data\\\\d1.txt', './../data\\\\d2.txt', './../data\\\\d3.txt', './../data\\\\d4.txt', './../data\\\\d5.txt']\n"
     ]
    },
    {
     "ename": "NameError",
     "evalue": "name 'spacy' is not defined",
     "output_type": "error",
     "traceback": [
      "\u001b[1;31m---------------------------------------------------------------------------\u001b[0m",
      "\u001b[1;31mNameError\u001b[0m                                 Traceback (most recent call last)",
      "\u001b[1;32m<ipython-input-9-342f4dcb72bd>\u001b[0m in \u001b[0;36m<module>\u001b[1;34m\u001b[0m\n\u001b[0;32m      3\u001b[0m \u001b[0mprint\u001b[0m\u001b[1;33m(\u001b[0m\u001b[0mfile_list\u001b[0m\u001b[1;33m)\u001b[0m\u001b[1;33m\u001b[0m\u001b[1;33m\u001b[0m\u001b[0m\n\u001b[0;32m      4\u001b[0m \u001b[0msample_sent\u001b[0m \u001b[1;33m=\u001b[0m \u001b[1;34m'On March 12, 2016, Premier Pacific Construction, Inc. (the “Company”) sold 25,000 shares of its common stock (the “Shares”), par value $0.001, at a price of $1.00 per share to an individual investor for an aggregate amount of $25,000 which was paid in cash. The shares were sold in a private placement transaction not involving a public offering, and as such was exempt from registration under Section 4(a)(2) of the Securities Act of 1933. SIGNATURES.'\u001b[0m\u001b[1;33m\u001b[0m\u001b[1;33m\u001b[0m\u001b[0m\n\u001b[1;32m----> 5\u001b[1;33m \u001b[0mall_money\u001b[0m \u001b[1;33m=\u001b[0m \u001b[0mextract_currency\u001b[0m\u001b[1;33m(\u001b[0m\u001b[0msample_sent\u001b[0m\u001b[1;33m)\u001b[0m\u001b[1;33m\u001b[0m\u001b[1;33m\u001b[0m\u001b[0m\n\u001b[0m\u001b[0;32m      6\u001b[0m \u001b[0mprint\u001b[0m\u001b[1;33m(\u001b[0m\u001b[1;34m\"Extracted money entities:\"\u001b[0m\u001b[1;33m,\u001b[0m \u001b[0mall_money\u001b[0m\u001b[1;33m)\u001b[0m\u001b[1;33m\u001b[0m\u001b[1;33m\u001b[0m\u001b[0m\n\u001b[0;32m      7\u001b[0m \u001b[1;32mif\u001b[0m \u001b[0mfile_list\u001b[0m\u001b[1;33m:\u001b[0m\u001b[1;33m\u001b[0m\u001b[1;33m\u001b[0m\u001b[0m\n",
      "\u001b[1;32m<ipython-input-8-1a4a6d915568>\u001b[0m in \u001b[0;36mextract_currency\u001b[1;34m(raw_input)\u001b[0m\n\u001b[0;32m      1\u001b[0m \u001b[1;32mdef\u001b[0m \u001b[0mextract_currency\u001b[0m\u001b[1;33m(\u001b[0m\u001b[0mraw_input\u001b[0m\u001b[1;33m)\u001b[0m\u001b[1;33m:\u001b[0m\u001b[1;33m\u001b[0m\u001b[1;33m\u001b[0m\u001b[0m\n\u001b[0;32m      2\u001b[0m     \u001b[0mmodel\u001b[0m\u001b[1;33m=\u001b[0m\u001b[1;34m'en_core_web_sm'\u001b[0m\u001b[1;33m\u001b[0m\u001b[1;33m\u001b[0m\u001b[0m\n\u001b[1;32m----> 3\u001b[1;33m     \u001b[0mnlp\u001b[0m \u001b[1;33m=\u001b[0m \u001b[0mspacy\u001b[0m\u001b[1;33m.\u001b[0m\u001b[0mload\u001b[0m\u001b[1;33m(\u001b[0m\u001b[0mmodel\u001b[0m\u001b[1;33m)\u001b[0m\u001b[1;33m\u001b[0m\u001b[1;33m\u001b[0m\u001b[0m\n\u001b[0m\u001b[0;32m      4\u001b[0m     \u001b[0mdoc\u001b[0m \u001b[1;33m=\u001b[0m \u001b[0mnlp\u001b[0m\u001b[1;33m(\u001b[0m\u001b[0mraw_input\u001b[0m\u001b[1;33m)\u001b[0m\u001b[1;33m\u001b[0m\u001b[1;33m\u001b[0m\u001b[0m\n\u001b[0;32m      5\u001b[0m     \u001b[0mall_money\u001b[0m \u001b[1;33m=\u001b[0m \u001b[1;33m[\u001b[0m\u001b[1;33m]\u001b[0m\u001b[1;33m;\u001b[0m\u001b[1;33m\u001b[0m\u001b[1;33m\u001b[0m\u001b[0m\n",
      "\u001b[1;31mNameError\u001b[0m: name 'spacy' is not defined"
     ]
    }
   ],
   "source": [
    "rootdir = \"./../data/*.txt\"\n",
    "file_list = glob.glob(rootdir)\n",
    "print(file_list)\n",
    "sample_sent = 'On March 12, 2016, Premier Pacific Construction, Inc. (the “Company”) sold 25,000 shares of its common stock (the “Shares”), par value $0.001, at a price of $1.00 per share to an individual investor for an aggregate amount of $25,000 which was paid in cash. The shares were sold in a private placement transaction not involving a public offering, and as such was exempt from registration under Section 4(a)(2) of the Securities Act of 1933. SIGNATURES.'\n",
    "all_money = extract_currency(sample_sent)\n",
    "print(\"Extracted money entities:\", all_money)\n",
    "if file_list:\n",
    "    for file_count in range(2,len(file_list)):\n",
    "        f= open(file_list[file_count],'r')\n",
    "        raw_input = f.read()\n",
    "        raw_input = re.sub(r'\\n{2,}', '.\\n',raw_input).strip()\n",
    "        sentences_aws = sent_tokenize(raw_input)\n",
    "        all_currency=[]\n",
    "        print(sentences_aws)\n",
    "        for sent in sentences_aws:\n",
    "            currency=extract_currency(sent)\n",
    "            all_currency.extend(currency)\n",
    "        print(\"*********Extracted money entities:\", all_currency)"
   ]
  },
  {
   "cell_type": "code",
   "execution_count": null,
   "metadata": {},
   "outputs": [],
   "source": []
  }
 ],
 "metadata": {
  "kernelspec": {
   "display_name": "Python 3",
   "language": "python",
   "name": "python3"
  },
  "language_info": {
   "codemirror_mode": {
    "name": "ipython",
    "version": 3
   },
   "file_extension": ".py",
   "mimetype": "text/x-python",
   "name": "python",
   "nbconvert_exporter": "python",
   "pygments_lexer": "ipython3",
   "version": "3.7.1"
  }
 },
 "nbformat": 4,
 "nbformat_minor": 2
}
